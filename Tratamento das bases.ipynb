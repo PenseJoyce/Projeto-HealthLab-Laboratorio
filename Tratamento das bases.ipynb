{
 "cells": [
  {
   "cell_type": "markdown",
   "id": "5eb010ba",
   "metadata": {},
   "source": [
    "# Projeto HealthLab Laboratório"
   ]
  },
  {
   "cell_type": "markdown",
   "id": "164047ef",
   "metadata": {},
   "source": [
    "Bibliotecas Utilizadas "
   ]
  },
  {
   "cell_type": "code",
   "execution_count": 1,
   "id": "dfc99801",
   "metadata": {
    "ExecuteTime": {
     "end_time": "2023-04-13T18:17:35.790719Z",
     "start_time": "2023-04-13T18:17:30.836196Z"
    }
   },
   "outputs": [],
   "source": [
    "import pandas as pd\n",
    "import datetime as dt\n",
    "\n",
    "# To display all the columns of the dataframe in the notebook\n",
    "# pd.pandas.set_option('display.max_columns', None)"
   ]
  },
  {
   "cell_type": "markdown",
   "id": "4a6e0f45",
   "metadata": {},
   "source": [
    "Carregamento das bases "
   ]
  },
  {
   "cell_type": "code",
   "execution_count": 2,
   "id": "f4279cf7-e340-4708-8e0c-87928aa07e0b",
   "metadata": {},
   "outputs": [],
   "source": [
    "# Carregando Datasets\n",
    "\n",
    "df_convenio = pd.read_csv(\"BaseDados/d_convênio.csv\")\n",
    "df_procedimento = pd.read_csv(\"BaseDados/d_procedimento.csv\")\n",
    "df_recepcionista = pd.read_csv(\"BaseDados/d_recepcionista.csv\")\n",
    "df_atendimento = pd.read_csv(\"BaseDados/f_atendimento.csv\")\n"
   ]
  },
  {
   "cell_type": "markdown",
   "id": "bebdd254",
   "metadata": {},
   "source": [
    "Verificação das bases"
   ]
  },
  {
   "cell_type": "code",
   "execution_count": 3,
   "id": "5fa5fc4a",
   "metadata": {
    "ExecuteTime": {
     "end_time": "2023-04-13T18:17:47.605950Z",
     "start_time": "2023-04-13T18:17:47.548059Z"
    },
    "scrolled": true
   },
   "outputs": [
    {
     "name": "stdout",
     "output_type": "stream",
     "text": [
      "(119, 2)\n",
      "(1060, 2)\n",
      "(130, 2)\n",
      "(653631, 8)\n"
     ]
    }
   ],
   "source": [
    "# Verificando tamanho dos datasets\n",
    "\n",
    "print(df_convenio.shape)\n",
    "print(df_procedimento.shape)\n",
    "print(df_recepcionista.shape)\n",
    "print(df_atendimento.shape)\n"
   ]
  },
  {
   "cell_type": "markdown",
   "id": "99c1da16",
   "metadata": {},
   "source": [
    "### Lidando com valores faltantes \n",
    "\n",
    "Com essa combinação dos métodos isnull()e o sum() podemos identificar onde estão os valores nulos sequenciados por campo em ordem crescente. "
   ]
  },
  {
   "cell_type": "code",
   "execution_count": 4,
   "id": "1e810c8c",
   "metadata": {},
   "outputs": [
    {
     "data": {
      "text/plain": [
       "ID Recepcionista    17204\n",
       "Data/Hora               0\n",
       "ID Atendimento          0\n",
       "ID Paciente             0\n",
       "Qtde Item               0\n",
       "dtype: int64"
      ]
     },
     "execution_count": 4,
     "metadata": {},
     "output_type": "execute_result"
    }
   ],
   "source": [
    "df_atendimento.isnull().sum().sort_values(ascending=False).head()"
   ]
  },
  {
   "cell_type": "markdown",
   "id": "0024a191",
   "metadata": {},
   "source": [
    "Entender quantos valores nulos estão presentes no dataframe é importantes paras as análises futuras. \n",
    "Nesse caso, temos duas opções: </b>\n",
    "\n",
    "1ª opção: Retirar os valores nulos </b>\n",
    "\n",
    "Podemos usar a função dropna para removers os valores nulos encontrados."
   ]
  },
  {
   "cell_type": "code",
   "execution_count": 5,
   "id": "1f16e35c",
   "metadata": {},
   "outputs": [
    {
     "data": {
      "text/html": [
       "<div>\n",
       "<style scoped>\n",
       "    .dataframe tbody tr th:only-of-type {\n",
       "        vertical-align: middle;\n",
       "    }\n",
       "\n",
       "    .dataframe tbody tr th {\n",
       "        vertical-align: top;\n",
       "    }\n",
       "\n",
       "    .dataframe thead th {\n",
       "        text-align: right;\n",
       "    }\n",
       "</style>\n",
       "<table border=\"1\" class=\"dataframe\">\n",
       "  <thead>\n",
       "    <tr style=\"text-align: right;\">\n",
       "      <th></th>\n",
       "      <th>Data/Hora</th>\n",
       "      <th>ID Atendimento</th>\n",
       "      <th>ID Paciente</th>\n",
       "      <th>Qtde Item</th>\n",
       "      <th>Valor</th>\n",
       "      <th>ID Convênio</th>\n",
       "      <th>ID Procedimento</th>\n",
       "      <th>ID Recepcionista</th>\n",
       "    </tr>\n",
       "  </thead>\n",
       "  <tbody>\n",
       "    <tr>\n",
       "      <th>0</th>\n",
       "      <td>2021-07-01 09:27:03,000</td>\n",
       "      <td>1O1X89XX</td>\n",
       "      <td>D776T7</td>\n",
       "      <td>1</td>\n",
       "      <td>2,8</td>\n",
       "      <td>14</td>\n",
       "      <td>2</td>\n",
       "      <td>32.0</td>\n",
       "    </tr>\n",
       "    <tr>\n",
       "      <th>1</th>\n",
       "      <td>2021-07-03 06:39:01,000</td>\n",
       "      <td>1O1X9069</td>\n",
       "      <td>TV9V7T</td>\n",
       "      <td>1</td>\n",
       "      <td>2,8</td>\n",
       "      <td>14</td>\n",
       "      <td>2</td>\n",
       "      <td>32.0</td>\n",
       "    </tr>\n",
       "  </tbody>\n",
       "</table>\n",
       "</div>"
      ],
      "text/plain": [
       "                 Data/Hora ID Atendimento ID Paciente  Qtde Item Valor  \\\n",
       "0  2021-07-01 09:27:03,000       1O1X89XX      D776T7          1   2,8   \n",
       "1  2021-07-03 06:39:01,000       1O1X9069      TV9V7T          1   2,8   \n",
       "\n",
       "   ID Convênio  ID Procedimento  ID Recepcionista  \n",
       "0           14                2              32.0  \n",
       "1           14                2              32.0  "
      ]
     },
     "execution_count": 5,
     "metadata": {},
     "output_type": "execute_result"
    }
   ],
   "source": [
    "df = df_atendimento.copy()\n",
    "df.dropna(inplace=True)\n",
    "df.head(2)"
   ]
  },
  {
   "cell_type": "markdown",
   "id": "03bda537",
   "metadata": {},
   "source": [
    "2ª opção: substituir os valores nulos por outros valores </b>\n",
    "\n",
    "Podemos usar a função fillna para substituir todos os valores nulos encontrados."
   ]
  },
  {
   "cell_type": "code",
   "execution_count": 6,
   "id": "a0ec1bc8",
   "metadata": {},
   "outputs": [
    {
     "data": {
      "text/html": [
       "<div>\n",
       "<style scoped>\n",
       "    .dataframe tbody tr th:only-of-type {\n",
       "        vertical-align: middle;\n",
       "    }\n",
       "\n",
       "    .dataframe tbody tr th {\n",
       "        vertical-align: top;\n",
       "    }\n",
       "\n",
       "    .dataframe thead th {\n",
       "        text-align: right;\n",
       "    }\n",
       "</style>\n",
       "<table border=\"1\" class=\"dataframe\">\n",
       "  <thead>\n",
       "    <tr style=\"text-align: right;\">\n",
       "      <th></th>\n",
       "      <th>Data/Hora</th>\n",
       "      <th>ID Atendimento</th>\n",
       "      <th>ID Paciente</th>\n",
       "      <th>Qtde Item</th>\n",
       "      <th>Valor</th>\n",
       "      <th>ID Convênio</th>\n",
       "      <th>ID Procedimento</th>\n",
       "      <th>ID Recepcionista</th>\n",
       "    </tr>\n",
       "  </thead>\n",
       "  <tbody>\n",
       "    <tr>\n",
       "      <th>0</th>\n",
       "      <td>2021-07-01 09:27:03,000</td>\n",
       "      <td>1O1X89XX</td>\n",
       "      <td>D776T7</td>\n",
       "      <td>1</td>\n",
       "      <td>2,8</td>\n",
       "      <td>14</td>\n",
       "      <td>2</td>\n",
       "      <td>32.0</td>\n",
       "    </tr>\n",
       "    <tr>\n",
       "      <th>1</th>\n",
       "      <td>2021-07-03 06:39:01,000</td>\n",
       "      <td>1O1X9069</td>\n",
       "      <td>TV9V7T</td>\n",
       "      <td>1</td>\n",
       "      <td>2,8</td>\n",
       "      <td>14</td>\n",
       "      <td>2</td>\n",
       "      <td>32.0</td>\n",
       "    </tr>\n",
       "  </tbody>\n",
       "</table>\n",
       "</div>"
      ],
      "text/plain": [
       "                 Data/Hora ID Atendimento ID Paciente  Qtde Item Valor  \\\n",
       "0  2021-07-01 09:27:03,000       1O1X89XX      D776T7          1   2,8   \n",
       "1  2021-07-03 06:39:01,000       1O1X9069      TV9V7T          1   2,8   \n",
       "\n",
       "   ID Convênio  ID Procedimento  ID Recepcionista  \n",
       "0           14                2              32.0  \n",
       "1           14                2              32.0  "
      ]
     },
     "execution_count": 6,
     "metadata": {},
     "output_type": "execute_result"
    }
   ],
   "source": [
    "data_fill = df_atendimento.copy()\n",
    "data_fill.fillna(0, inplace=True)\n",
    "data_fill.head(2)"
   ]
  },
  {
   "cell_type": "code",
   "execution_count": 7,
   "id": "851fd20b",
   "metadata": {},
   "outputs": [
    {
     "name": "stdout",
     "output_type": "stream",
     "text": [
      "(653631, 8)\n"
     ]
    }
   ],
   "source": [
    "# Nesse caso vamos substiuir os valores nulos \n",
    "\n",
    "df_atendimento.fillna(0, inplace=True)\n",
    "print(df_atendimento.shape)"
   ]
  },
  {
   "cell_type": "code",
   "execution_count": 8,
   "id": "3049f3e2-bba3-4d48-a4e7-bbe51d594fab",
   "metadata": {},
   "outputs": [
    {
     "data": {
      "text/plain": [
       "Data/Hora            object\n",
       "ID Atendimento       object\n",
       "ID Paciente          object\n",
       "Qtde Item             int64\n",
       "Valor                object\n",
       "ID Convênio           int64\n",
       "ID Procedimento       int64\n",
       "ID Recepcionista    float64\n",
       "dtype: object"
      ]
     },
     "execution_count": 8,
     "metadata": {},
     "output_type": "execute_result"
    }
   ],
   "source": [
    "# Verificação do tipo de cada coluna --> obs: objeto é texto\n",
    "\n",
    "df_atendimento.dtypes\n"
   ]
  },
  {
   "cell_type": "code",
   "execution_count": 9,
   "id": "1e8bb4b7",
   "metadata": {},
   "outputs": [],
   "source": [
    "# Fazendo o tratamento dos tipos de dados \n",
    "\n",
    "df_atendimento[\"Valor\"] = df_atendimento[\"Valor\"].apply(lambda x: x.replace(\",\", \".\"))\n",
    "df_atendimento[\"Data/Hora\"] = df_atendimento[\"Data/Hora\"].apply(lambda x: x.replace(\",000\", \"\"))\n"
   ]
  },
  {
   "cell_type": "code",
   "execution_count": 10,
   "id": "9bf5f657",
   "metadata": {},
   "outputs": [],
   "source": [
    "# Convertendo os campos para o tipo correto \n",
    "\n",
    "df_atendimento[\"Valor\"] = df_atendimento[\"Valor\"].apply(lambda x: float(x))\n",
    "df_atendimento[\"ID Recepcionista\"] = df_atendimento[\"ID Recepcionista\"].apply(lambda x: int(x))\n"
   ]
  },
  {
   "cell_type": "markdown",
   "id": "648af23f",
   "metadata": {},
   "source": [
    "### Visualizando dados estatísticos\n",
    "\n",
    "Podemos usar o _describe()_ pra obter os principais valores estatísticos, para visualizar os resultados mais claros podemos visualizar a transposta. "
   ]
  },
  {
   "cell_type": "code",
   "execution_count": 11,
   "id": "b61dcb2e",
   "metadata": {},
   "outputs": [
    {
     "data": {
      "text/html": [
       "<div>\n",
       "<style scoped>\n",
       "    .dataframe tbody tr th:only-of-type {\n",
       "        vertical-align: middle;\n",
       "    }\n",
       "\n",
       "    .dataframe tbody tr th {\n",
       "        vertical-align: top;\n",
       "    }\n",
       "\n",
       "    .dataframe thead th {\n",
       "        text-align: right;\n",
       "    }\n",
       "</style>\n",
       "<table border=\"1\" class=\"dataframe\">\n",
       "  <thead>\n",
       "    <tr style=\"text-align: right;\">\n",
       "      <th></th>\n",
       "      <th>count</th>\n",
       "      <th>mean</th>\n",
       "      <th>std</th>\n",
       "      <th>min</th>\n",
       "      <th>25%</th>\n",
       "      <th>50%</th>\n",
       "      <th>75%</th>\n",
       "      <th>max</th>\n",
       "    </tr>\n",
       "  </thead>\n",
       "  <tbody>\n",
       "    <tr>\n",
       "      <th>Qtde Item</th>\n",
       "      <td>653631.0</td>\n",
       "      <td>1.000041</td>\n",
       "      <td>0.014265</td>\n",
       "      <td>0.0</td>\n",
       "      <td>1.00</td>\n",
       "      <td>1.0</td>\n",
       "      <td>1.00</td>\n",
       "      <td>5.0</td>\n",
       "    </tr>\n",
       "    <tr>\n",
       "      <th>Valor</th>\n",
       "      <td>653631.0</td>\n",
       "      <td>14.440629</td>\n",
       "      <td>30.789474</td>\n",
       "      <td>0.0</td>\n",
       "      <td>2.81</td>\n",
       "      <td>6.8</td>\n",
       "      <td>15.82</td>\n",
       "      <td>2800.0</td>\n",
       "    </tr>\n",
       "    <tr>\n",
       "      <th>ID Convênio</th>\n",
       "      <td>653631.0</td>\n",
       "      <td>15.329158</td>\n",
       "      <td>17.007695</td>\n",
       "      <td>1.0</td>\n",
       "      <td>7.00</td>\n",
       "      <td>13.0</td>\n",
       "      <td>15.00</td>\n",
       "      <td>110.0</td>\n",
       "    </tr>\n",
       "    <tr>\n",
       "      <th>ID Procedimento</th>\n",
       "      <td>653631.0</td>\n",
       "      <td>75.830138</td>\n",
       "      <td>90.522596</td>\n",
       "      <td>1.0</td>\n",
       "      <td>10.00</td>\n",
       "      <td>69.0</td>\n",
       "      <td>98.00</td>\n",
       "      <td>972.0</td>\n",
       "    </tr>\n",
       "    <tr>\n",
       "      <th>ID Recepcionista</th>\n",
       "      <td>653631.0</td>\n",
       "      <td>50.935771</td>\n",
       "      <td>33.033823</td>\n",
       "      <td>0.0</td>\n",
       "      <td>25.00</td>\n",
       "      <td>43.0</td>\n",
       "      <td>88.00</td>\n",
       "      <td>124.0</td>\n",
       "    </tr>\n",
       "  </tbody>\n",
       "</table>\n",
       "</div>"
      ],
      "text/plain": [
       "                     count       mean        std  min    25%   50%    75%  \\\n",
       "Qtde Item         653631.0   1.000041   0.014265  0.0   1.00   1.0   1.00   \n",
       "Valor             653631.0  14.440629  30.789474  0.0   2.81   6.8  15.82   \n",
       "ID Convênio       653631.0  15.329158  17.007695  1.0   7.00  13.0  15.00   \n",
       "ID Procedimento   653631.0  75.830138  90.522596  1.0  10.00  69.0  98.00   \n",
       "ID Recepcionista  653631.0  50.935771  33.033823  0.0  25.00  43.0  88.00   \n",
       "\n",
       "                     max  \n",
       "Qtde Item            5.0  \n",
       "Valor             2800.0  \n",
       "ID Convênio        110.0  \n",
       "ID Procedimento    972.0  \n",
       "ID Recepcionista   124.0  "
      ]
     },
     "execution_count": 11,
     "metadata": {},
     "output_type": "execute_result"
    }
   ],
   "source": [
    "df_atendimento.describe().T"
   ]
  },
  {
   "cell_type": "markdown",
   "id": "ca56fb62",
   "metadata": {},
   "source": [
    "### Correlação entre os dados #\n",
    "\n",
    "A análise de correlação é uma forma descritiva que mede se há e qual o grau de dependência entre variáveis, ou seja, o quanto uma variável interfere em outra. O coeficiente de Pearson, também chamado de “coeficiente de correlação produto-momento” ou chamado de “ρ de Pearson”, mede o grau de correlação através do cálculo de direção positiva ou negativa. Este coeficiente, normalmente representado por ρ assume apenas valores entre -1 e 1.\n",
    "\n",
    "Como podemos interpretar os valores*  que ρ pode assumir?\n",
    "\n",
    "ρ = 0,9 a 1 : correlação muito forte; \n",
    "\n",
    "ρ = 0,7 a 09 : correlação forte;\n",
    "\n",
    "ρ = 0,5 a 0,7 : correlação moderada;\n",
    "\n",
    "ρ = 0,3 a 0,5 : correlação fraca;\n",
    "\n",
    "ρ = 0 a 0,3 : não possui correlação.\n",
    "\n",
    "_* Valores positivos ou negativos_\n",
    "\n",
    "Em python, para verificar a correlação usamos a biblioteca _seaborn_. Para a análise de correlação vamos utilizar a função .corr(). Para visualizarmos a matriz de correlação, vamos utilizar a função _.heatmap()_ do pacote seaborn, essa função vai nos retornar uma forma gráfica da matriz com uma escala de cor em conjunto com uma escala numérica, as quais vão indicar o grau medido entre as variáveis."
   ]
  },
  {
   "cell_type": "code",
   "execution_count": 12,
   "id": "ccdbefa7",
   "metadata": {},
   "outputs": [
    {
     "data": {
      "text/plain": [
       "<Axes: >"
      ]
     },
     "execution_count": 12,
     "metadata": {},
     "output_type": "execute_result"
    },
    {
     "data": {
      "image/png": "[encoded data removed]",
      "text/plain": [
       "<Figure size 300x300 with 2 Axes>"
      ]
     },
     "metadata": {},
     "output_type": "display_data"
    }
   ],
   "source": [
    "import matplotlib.pyplot as plt\n",
    "import seaborn as sns \n",
    "\n",
    "plt.figure(figsize=(3, 3)) \n",
    "sns.heatmap(data=df_atendimento.corr(numeric_only = True),annot=True, fmt=\".1f\", linewidths=0.2,cmap='coolwarm', square=True)"
   ]
  },
  {
   "cell_type": "markdown",
   "id": "543c016c",
   "metadata": {},
   "source": [
    "#### Lista das categorias de dados dentro de cada feature"
   ]
  },
  {
   "cell_type": "code",
   "execution_count": 13,
   "id": "13c37531",
   "metadata": {},
   "outputs": [
    {
     "name": "stdout",
     "output_type": "stream",
     "text": [
      "Feature 'Data/Hora' has 53255 unique categories\n",
      "Feature 'ID Atendimento' has 53785 unique categories\n",
      "Feature 'ID Paciente' has 35222 unique categories\n"
     ]
    }
   ],
   "source": [
    "# Verificar X é nosso dataframe\n",
    "\n",
    "for col_name in df_atendimento.columns:\n",
    "    if df_atendimento[col_name].dtypes == 'object':\n",
    "        unique_cat = len(df_atendimento[col_name].unique())\n",
    "        print(\"Feature '{col_name}' has {unique_cat} unique categories\".format(col_name=col_name, unique_cat=unique_cat))"
   ]
  },
  {
   "cell_type": "markdown",
   "id": "7bbd4b66",
   "metadata": {},
   "source": [
    "### Separando dados categóricos de numéricos"
   ]
  },
  {
   "cell_type": "code",
   "execution_count": 14,
   "id": "c69fc0f7",
   "metadata": {},
   "outputs": [
    {
     "name": "stdout",
     "output_type": "stream",
     "text": [
      "Categorical_attributes:  ['Data/Hora', 'ID Atendimento', 'ID Paciente']\n",
      "\n",
      "Numerical_attributes:  ['Qtde Item', 'Valor', 'ID Convênio', 'ID Procedimento', 'ID Recepcionista']\n"
     ]
    }
   ],
   "source": [
    "# listando features categoricas e numéricas:\n",
    "categorical_attributes = list(df_atendimento.select_dtypes(include=['object']).columns)\n",
    "numerical_attributes = list(df_atendimento.select_dtypes(include=['float64', 'int64']).columns)\n",
    "\n",
    "print('Categorical_attributes: ', categorical_attributes)\n",
    "print('\\nNumerical_attributes: ', numerical_attributes)"
   ]
  },
  {
   "cell_type": "markdown",
   "id": "e23aaf50",
   "metadata": {},
   "source": [
    "### Salvando os dados para consulta no power bi\n",
    "\n",
    "Após a exploração e tratamento dos dados, vamos salvá-los para consulta no power BI "
   ]
  },
  {
   "cell_type": "code",
   "execution_count": 16,
   "id": "a2c8bce8",
   "metadata": {},
   "outputs": [],
   "source": [
    "\n",
    "df_atendimento.to_excel('DadosTratados/df_atendimento.xlsx', index=False)\n",
    "df_convenio.to_excel('DadosTratados/df_convenio.xlsx', index=False)\n",
    "df_procedimento.to_excel('DadosTratados/df_procedimento.xlsx', index=False)\n",
    "df_recepcionista.to_excel('DadosTratados/df_recepcionista.xlsx', index=False)\n"
   ]
  }
 ],
 "metadata": {
  "kernelspec": {
   "display_name": "base",
   "language": "python",
   "name": "python3"
  },
  "language_info": {
   "codemirror_mode": {
    "name": "ipython",
    "version": 3
   },
   "file_extension": ".py",
   "mimetype": "text/x-python",
   "name": "python",
   "nbconvert_exporter": "python",
   "pygments_lexer": "ipython3",
   "version": "3.10.9"
  },
  "toc": {
   "base_numbering": 1,
   "nav_menu": {},
   "number_sections": true,
   "sideBar": true,
   "skip_h1_title": false,
   "title_cell": "Table of Contents",
   "title_sidebar": "Contents",
   "toc_cell": false,
   "toc_position": {},
   "toc_section_display": true,
   "toc_window_display": false
  },
  "toc-showmarkdowntxt": true
 },
 "nbformat": 4,
 "nbformat_minor": 5
}
